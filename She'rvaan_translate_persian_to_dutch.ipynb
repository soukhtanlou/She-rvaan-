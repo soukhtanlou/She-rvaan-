{
  "nbformat": 4,
  "nbformat_minor": 0,
  "metadata": {
    "colab": {
      "provenance": []
    },
    "kernelspec": {
      "name": "python3",
      "display_name": "Python 3"
    },
    "language_info": {
      "name": "python"
    }
  },
  "cells": [
    {
      "cell_type": "code",
      "source": [
        "from transformers import (\n",
        "    MT5ForConditionalGeneration,\n",
        "    MT5Tokenizer,\n",
        "    MBartForConditionalGeneration,\n",
        "    MBart50TokenizerFast\n",
        ")\n",
        "\n",
        "# Persian to English model\n",
        "model_size = \"small\"\n",
        "model_name_fa_en = f\"persiannlp/mt5-{model_size}-parsinlu-opus-translation_fa_en\"\n",
        "tokenizer_fa_en = MT5Tokenizer.from_pretrained(model_name_fa_en)\n",
        "model_fa_en = MT5ForConditionalGeneration.from_pretrained(model_name_fa_en)\n",
        "\n",
        "# English to Dutch model (MBart)\n",
        "model_name_en_nl = \"SnypzZz/Llama2-13b-Language-translate\"\n",
        "tokenizer_en_nl = MBart50TokenizerFast.from_pretrained(model_name_en_nl, src_lang=\"en_XX\")\n",
        "model_en_nl = MBartForConditionalGeneration.from_pretrained(model_name_en_nl)\n",
        "\n",
        "\n",
        "def translate_persian_to_dutch(input_string, **generator_args):\n",
        "    # Persian to English\n",
        "    input_ids_fa_en = tokenizer_fa_en.encode(input_string, return_tensors=\"pt\")\n",
        "    res_fa_en = model_fa_en.generate(input_ids_fa_en, **generator_args)\n",
        "    output_en = tokenizer_fa_en.batch_decode(res_fa_en, skip_special_tokens=True)[0]\n",
        "\n",
        "    # English to Dutch (using MBart)\n",
        "    model_inputs_en_nl = tokenizer_en_nl(output_en, return_tensors=\"pt\")\n",
        "    generated_tokens = model_en_nl.generate(\n",
        "        **model_inputs_en_nl,\n",
        "        forced_bos_token_id=tokenizer_en_nl.lang_code_to_id[\"nl_XX\"]  # Force Dutch output\n",
        "    )\n",
        "    output_nl = tokenizer_en_nl.batch_decode(generated_tokens, skip_special_tokens=True)[0]\n",
        "\n",
        "    print(\"English Translation:\", output_en)\n",
        "    print(\"Dutch Translation:\", output_nl)\n",
        "    return output_nl\n",
        "\n",
        "\n",
        "# Example usage\n",
        "persian_text = \"سلام، این یک متن آزمایشی است.\"\n",
        "dutch_translation = translate_persian_to_dutch(persian_text)\n"
      ],
      "metadata": {
        "colab": {
          "base_uri": "https://localhost:8080/"
        },
        "id": "LQ3yO1LcwMlj",
        "outputId": "09b915d0-5bbf-4cb2-8efd-8c29a423f387"
      },
      "execution_count": null,
      "outputs": [
        {
          "output_type": "stream",
          "name": "stdout",
          "text": [
            "English Translation: Hello, this is a test text.\n",
            "Dutch Translation: Hallo, dit is een testtekst.\n"
          ]
        }
      ]
    },
    {
      "cell_type": "code",
      "source": [
        "from transformers import MT5ForConditionalGeneration, MT5Tokenizer, MarianMTModel, MarianTokenizer\n",
        "\n",
        "# Persian to English model\n",
        "model_size = \"small\"\n",
        "model_name_fa_en = f\"persiannlp/mt5-{model_size}-parsinlu-opus-translation_fa_en\"\n",
        "tokenizer_fa_en = MT5Tokenizer.from_pretrained(model_name_fa_en)\n",
        "model_fa_en = MT5ForConditionalGeneration.from_pretrained(model_name_fa_en)\n",
        "\n",
        "# English to Dutch model\n",
        "model_name_en_nl = \"Helsinki-NLP/opus-mt-en-nl\" # A good English-to-Dutch model\n",
        "tokenizer_en_nl = MarianTokenizer.from_pretrained(model_name_en_nl)\n",
        "model_en_nl = MarianMTModel.from_pretrained(model_name_en_nl)\n",
        "\n",
        "\n",
        "def translate_persian_to_dutch(input_string, **generator_args):\n",
        "  # Persian to English\n",
        "  input_ids_fa_en = tokenizer_fa_en.encode(input_string, return_tensors=\"pt\")\n",
        "  res_fa_en = model_fa_en.generate(input_ids_fa_en, **generator_args)\n",
        "  output_en = tokenizer_fa_en.batch_decode(res_fa_en, skip_special_tokens=True)[0] # Extract first translation\n",
        "\n",
        "  # English to Dutch\n",
        "  input_ids_en_nl = tokenizer_en_nl.encode(output_en, return_tensors=\"pt\")\n",
        "  res_en_nl = model_en_nl.generate(input_ids_en_nl, **generator_args)\n",
        "  output_nl = tokenizer_en_nl.batch_decode(res_en_nl, skip_special_tokens=True)[0]\n",
        "\n",
        "  print(\"English Translation:\", output_en)\n",
        "  print(\"Dutch Translation:\", output_nl)\n",
        "  return output_nl\n",
        "\n",
        "\n",
        "# Example usage\n",
        "persian_text = \"سلام، این یک متن آزمایشی است.\" # Replace with your Persian text\n",
        "dutch_translation = translate_persian_to_dutch(persian_text)"
      ],
      "metadata": {
        "colab": {
          "base_uri": "https://localhost:8080/"
        },
        "id": "-gr0cpG10EY9",
        "outputId": "be023580-da28-47af-d491-709394048cfb"
      },
      "execution_count": null,
      "outputs": [
        {
          "output_type": "stream",
          "name": "stdout",
          "text": [
            "English Translation: Hello, this is a test text.\n",
            "Dutch Translation: Hallo, dit is een testtekst.\n"
          ]
        }
      ]
    }
  ]
}